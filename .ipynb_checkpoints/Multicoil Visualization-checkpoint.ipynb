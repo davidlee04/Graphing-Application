{
 "cells": [
  {
   "cell_type": "code",
   "execution_count": 55,
   "metadata": {},
   "outputs": [],
   "source": [
    "#imports\n",
    "\n",
    "%matplotlib widget\n",
    "%config InlineBackend.figure_format = 'svg'\n",
    "\n",
    "import matplotlib\n",
    "import matplotlib.pyplot as plt\n",
    "import matplotlib.dates as dts\n",
    "import matplotlib.image as mpimg\n",
    "import numpy as np\n",
    "\n",
    "import ipywidgets as widgets \n",
    "from ipywidgets import interact, interact_manual, interactive, fixed, HBox, VBox, Label, Layout\n",
    "\n",
    "import datetime as dt\n",
    "from datetime import datetime\n",
    "import time\n",
    "\n",
    "from os import listdir"
   ]
  },
  {
   "cell_type": "code",
   "execution_count": 56,
   "metadata": {},
   "outputs": [],
   "source": [
    "dirs = listdir('data_files/scan_data/multicoil')\n",
    "\n",
    "#string format of dates\n",
    "dateNums = [[] for i in range(len(dirs))]\n",
    "\n",
    "mat = [[[] for j in range(9)] for i in range(len(dirs))]\n",
    "\n",
    "#daily image\n",
    "# dImg1 = mpimg.imread('data_files/daily_images/10deg_flip_angle/3te/birnfig1_fmri3te_new_10.jpg')\n",
    "# dImg2 = mpimg.imread('data_files/daily_images/10deg_flip_angle/3te/birnfig2_fmri3te_new_10.jpg')\n",
    "# dImg3 = mpimg.imread('data_files/daily_images/10deg_flip_angle/3te/birnfig3_fmri3te_new_10.jpg')\n",
    "# dImg4 = mpimg.imread('data_files/daily_images/10deg_flip_angle/3te/birnfig4_fmri3te_new_10.jpg')\n",
    "\n",
    "#parsing data from file\n",
    "def parse():\n",
    "    fc = 0\n",
    "    for file in dirs:\n",
    "        #data values (y-values)\n",
    "        with open('data_files/scan_data/multicoil/'+file) as dataF:\n",
    "            next(dataF)\n",
    "            for line in dataF:\n",
    "                data = line.split()\n",
    "                #getting string form of date\n",
    "                date = data[0]\n",
    "                #reformatting date into readable format\n",
    "                reformat = date[0:4]+'/'+date[4:6]+'/'+date[6:8]\n",
    "                #print(reformat)\n",
    "                dt = datetime.strptime(reformat, '%Y/%m/%d')\n",
    "                dateNums[fc].append(str(dt))\n",
    "                #important values\n",
    "                mat[fc][0].append(dts.date2num(dt))\n",
    "                for i in range(8):\n",
    "                    mat[fc][i+1].append(float(data[i+1]))\n",
    "                #if status becomes relevant/recorded\n",
    "                #mat[fc][i].append(data[9])\n",
    "        fc+=1"
   ]
  },
  {
   "cell_type": "code",
   "execution_count": 57,
   "metadata": {},
   "outputs": [],
   "source": [
    "class Line:\n",
    "    def __init__(self, fig, ax, dirs):\n",
    "        self.fig = fig\n",
    "        self.ax = ax\n",
    "        self.annot = self.ax.annotate(\"\", xy=(0,0), xytext=(-20, 20),textcoords=\"offset points\",\n",
    "                                                    bbox=dict(boxstyle=\"round\", fc=\"w\"),\n",
    "                                                    arrowprops=dict(arrowstyle=\"->\"),\n",
    "                                                    fontfamily = 'Arial', fontsize = 9)\n",
    "        self.annot.set_visible(False)\n",
    "        self.dirs = dirs\n",
    "        \n",
    "    def draw_line(self, x, y, color):\n",
    "        self.line, = self.ax.plot_date(x, y, '.')\n",
    "        self.ax.plot_date(x, y, '.-', linewidth = 0.8, color=color)\n",
    "        \n",
    "    def update(self, ind, data_mat):\n",
    "        x,y = self.line.get_data()\n",
    "        x_i = ind[\"ind\"][0]\n",
    "        self.annot.xy = (x[ind[\"ind\"][0]], y[ind[\"ind\"][0]])\n",
    "        text = \"{}\\n{}\".format('Date: %s' % str(dts.num2date(data_mat[0][x_i]))[0:10],\n",
    "                               'Value: %s' % str(data_mat[1][x_i])[0:4])\n",
    "        self.annot.set_text(text)\n",
    "        \n",
    "    def on_hover(self, event, data_mat):\n",
    "        if event.inaxes == self.ax:\n",
    "            within, ind = self.line.contains(event)\n",
    "            if within:\n",
    "                self.annot.set_visible(True)\n",
    "                self.update(ind, data_mat)\n",
    "                self.fig.canvas.draw_idle()\n",
    "            elif self.annot.get_visible():\n",
    "                self.annot.set_visible(False)\n",
    "                self.fig.canvas.draw_idle()\n",
    "                \n",
    "    def connect_comp(self, data_mat):\n",
    "        self.fig.canvas.mpl_connect('motion_notify_event', \n",
    "                                    lambda event: self.on_hover(event, data_mat))\n",
    "        #self.fig.canvas.mpl_connect('button_release_event',\n",
    "                                    #lambda event: self.on_click(event, data))"
   ]
  },
  {
   "cell_type": "code",
   "execution_count": 58,
   "metadata": {},
   "outputs": [],
   "source": [
    "class Axis:\n",
    "    def __init__(self, fig, ax, dirs):\n",
    "        self.fig = fig\n",
    "        self.ax = ax\n",
    "        self.ax.grid(True)\n",
    "        self.dirs = dirs\n",
    "        \n",
    "    def draw_axes(self, data_mat, i):\n",
    "        colors = ['#00008B', '#228B22', '#FF0000', '#40E0D0', '#800080', '#FFFF00', '#556B2F', '#89cff0']\n",
    "        line = Line(self.fig, self.ax, self.dirs)\n",
    "        line.draw_line(data_mat[0], data_mat[1], colors[i])\n",
    "        \n",
    "        line.connect_comp(data_mat)\n",
    "                \n",
    "    #def on_click(self, event, data):\n",
    "        #print('click')"
   ]
  },
  {
   "cell_type": "code",
   "execution_count": 59,
   "metadata": {},
   "outputs": [],
   "source": [
    "class Graph:\n",
    "    def __init__(self, n, mat, val):\n",
    "        self.init_date = 0\n",
    "        self.n_points = n\n",
    "        self.n = n\n",
    "        self.mat = mat\n",
    "        self.dirs = dirs\n",
    "        self.val = val\n",
    "        \n",
    "        self.update_button = widgets.Button(\n",
    "            value=False,\n",
    "            description='Apply',\n",
    "            disabled=False,\n",
    "            button_style='',\n",
    "            tooltip='Update Graph'\n",
    "        )\n",
    "        \n",
    "        self.date_picker = widgets.Dropdown(\n",
    "            description = 'Pick initial date:',\n",
    "            disabled = False,\n",
    "            style = {\n",
    "                'description_width': 'initial'\n",
    "            },\n",
    "            options = [(dateNums[self.val][i][0:10], i) for i in range(len(self.mat[self.val][0]))]\n",
    "        )\n",
    "        \n",
    "        self.n_slider = widgets.IntSlider(\n",
    "            description = 'Number of Points:',\n",
    "            value = min(self.n, len(self.mat[self.val][0])),\n",
    "            min = 1,\n",
    "            max = len(self.mat[self.val][0]),\n",
    "            step = 1,\n",
    "            continuous_update = False,\n",
    "            style = {\n",
    "                'description_width': 'initial'\n",
    "            },\n",
    "            layout = Layout(width = '381px')\n",
    "        )\n",
    "        \n",
    "        display(self.date_picker)\n",
    "        display(self.n_slider)\n",
    "        display(self.update_button)\n",
    "        self.update_button.on_click(self.button_click)\n",
    "        \n",
    "        self.fig, axs = plt.subplots(figsize=[10,9])\n",
    "        plt.subplots_adjust(left=0.125, bottom=0.1, right=0.9, top=0.9, wspace=0.2, hspace=0.4)\n",
    "        plt.rc('xtick', labelsize=8)\n",
    "        \n",
    "        self.ax_1 = Axis(self.fig, axs, self.dirs)\n",
    "        \n",
    "        self.draw()\n",
    "        \n",
    "    def draw(self):\n",
    "        self.fig.suptitle('Multicoil')\n",
    "        if self.val == 0:\n",
    "            title = '3TE'\n",
    "        elif self.val == 1:\n",
    "            title = '3TW'\n",
    "        else:\n",
    "            title = 'Unknown'\n",
    "        self.ax_1.ax.set_title(title)\n",
    "        self.ax_1.ax.set_ylabel('Signal Intensity')\n",
    "        \n",
    "        for i in range(8):\n",
    "            data_mat = []\n",
    "            data_mat.append(self.mat[self.val][0][self.init_date:self.init_date+self.n_points])\n",
    "            data_mat.append(self.mat[self.val][i+1][self.init_date:self.init_date+self.n_points])\n",
    "            self.ax_1.draw_axes(data_mat, i)\n",
    "\n",
    "        plt.setp(self.ax_1.ax.get_xticklabels(), rotation=30, ha=\"right\")\n",
    "\n",
    "        plt.show(block=False)\n",
    "\n",
    "        #imgplot=plt.imshow(dImg1)\n",
    "    \n",
    "    def button_click(self, b):\n",
    "        date_value = 0\n",
    "        if self.date_picker != None:\n",
    "            date_value = self.date_picker.value\n",
    "        self.ax_1.ax.clear()\n",
    "        self.ax_1.ax.grid(True)\n",
    "        self.init_date = date_value\n",
    "        self.n_points = self.n_slider.value\n",
    "        self.draw()"
   ]
  },
  {
   "cell_type": "code",
   "execution_count": 60,
   "metadata": {},
   "outputs": [
    {
     "name": "stdout",
     "output_type": "stream",
     "text": [
      "10\n"
     ]
    },
    {
     "data": {
      "application/vnd.jupyter.widget-view+json": {
       "model_id": "025b9f32f74749c19d23725970b4896d",
       "version_major": 2,
       "version_minor": 0
      },
      "text/plain": [
       "Dropdown(description='Pick initial date:', options=(('2011-11-03', 0), ('2011-11-15', 1), ('2011-11-17', 2), (…"
      ]
     },
     "metadata": {},
     "output_type": "display_data"
    },
    {
     "data": {
      "application/vnd.jupyter.widget-view+json": {
       "model_id": "5ff08803ac8b44c699cb9c3d490dd104",
       "version_major": 2,
       "version_minor": 0
      },
      "text/plain": [
       "IntSlider(value=10, continuous_update=False, description='Number of Points:', layout=Layout(width='381px'), ma…"
      ]
     },
     "metadata": {},
     "output_type": "display_data"
    },
    {
     "data": {
      "application/vnd.jupyter.widget-view+json": {
       "model_id": "5b6ce12bfdfc44bf9f6ec42fb802464b",
       "version_major": 2,
       "version_minor": 0
      },
      "text/plain": [
       "Button(description='Apply', style=ButtonStyle(), tooltip='Update Graph')"
      ]
     },
     "metadata": {},
     "output_type": "display_data"
    },
    {
     "data": {
      "application/vnd.jupyter.widget-view+json": {
       "model_id": "cb074f261b9540b885224d9589c3117b",
       "version_major": 2,
       "version_minor": 0
      },
      "text/plain": [
       "Canvas(toolbar=Toolbar(toolitems=[('Home', 'Reset original view', 'home', 'home'), ('Back', 'Back to previous …"
      ]
     },
     "metadata": {},
     "output_type": "display_data"
    },
    {
     "data": {
      "application/vnd.jupyter.widget-view+json": {
       "model_id": "6574f3cd10b0416c90ee1d651933bf58",
       "version_major": 2,
       "version_minor": 0
      },
      "text/plain": [
       "Dropdown(description='Pick initial date:', options=(('2010-02-19', 0), ('2010-02-24', 1), ('2010-02-26', 2), (…"
      ]
     },
     "metadata": {},
     "output_type": "display_data"
    },
    {
     "data": {
      "application/vnd.jupyter.widget-view+json": {
       "model_id": "3414e55c296747ffb608eac12d723d93",
       "version_major": 2,
       "version_minor": 0
      },
      "text/plain": [
       "IntSlider(value=10, continuous_update=False, description='Number of Points:', layout=Layout(width='381px'), ma…"
      ]
     },
     "metadata": {},
     "output_type": "display_data"
    },
    {
     "data": {
      "application/vnd.jupyter.widget-view+json": {
       "model_id": "f5cbacd3e8db4eb2a9611e16a78d2255",
       "version_major": 2,
       "version_minor": 0
      },
      "text/plain": [
       "Button(description='Apply', style=ButtonStyle(), tooltip='Update Graph')"
      ]
     },
     "metadata": {},
     "output_type": "display_data"
    },
    {
     "data": {
      "application/vnd.jupyter.widget-view+json": {
       "model_id": "caf3c5269fa841efabc0a8ca92792a8e",
       "version_major": 2,
       "version_minor": 0
      },
      "text/plain": [
       "Canvas(toolbar=Toolbar(toolitems=[('Home', 'Reset original view', 'home', 'home'), ('Back', 'Back to previous …"
      ]
     },
     "metadata": {},
     "output_type": "display_data"
    }
   ],
   "source": [
    "#read-in, n = number of data points\n",
    "n = int(input())\n",
    "    \n",
    "#runner\n",
    "def main():\n",
    "    parse()\n",
    "    #print(mat[0][0])\n",
    "    g = Graph(n, mat, 0)\n",
    "    g = Graph(n, mat, 1)\n",
    "    \n",
    "#runner\n",
    "if(__name__ == '__main__'):\n",
    "    main()"
   ]
  }
 ],
 "metadata": {
  "kernelspec": {
   "display_name": "Python 3.8.2 32-bit",
   "language": "python",
   "name": "python38232bitc0524e11d0b049ed8d8e7b8d66f65b4d"
  }
 },
 "nbformat": 4,
 "nbformat_minor": 4
}
