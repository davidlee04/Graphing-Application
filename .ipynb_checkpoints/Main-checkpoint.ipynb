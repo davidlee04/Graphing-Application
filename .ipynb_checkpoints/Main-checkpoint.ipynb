{
 "cells": [
  {
   "cell_type": "code",
   "execution_count": 4,
   "metadata": {},
   "outputs": [
    {
     "name": "stdout",
     "output_type": "stream",
     "text": [
      "5\n"
     ]
    },
    {
     "data": {
      "application/vnd.jupyter.widget-view+json": {
       "model_id": "46662bfe92ca4a87ad83c82ae74467f5",
       "version_major": 2,
       "version_minor": 0
      },
      "text/plain": [
       "Canvas(toolbar=Toolbar(toolitems=[('Home', 'Reset original view', 'home', 'home'), ('Back', 'Back to previous …"
      ]
     },
     "metadata": {},
     "output_type": "display_data"
    },
    {
     "data": {
      "text/plain": [
       "[<matplotlib.lines.Line2D at 0x254c93c4b88>]"
      ]
     },
     "execution_count": 4,
     "metadata": {},
     "output_type": "execute_result"
    }
   ],
   "source": [
    "%matplotlib widget\n",
    "%config InlineBackend.figure_format = 'svg'\n",
    "\n",
    "import matplotlib.pyplot as plot\n",
    "import matplotlib.dates as dts\n",
    "import numpy as np\n",
    "import mplcursors\n",
    "\n",
    "import ipywidgets as widgets \n",
    "from ipywidgets import interact, interact_manual, interactive, fixed\n",
    "\n",
    "import datetime as dt\n",
    "from datetime import datetime\n",
    "\n",
    "dataF = open(\"birnfmri3tw_new.dat.txt\", 'r')\n",
    "dataF.readline()\n",
    "\n",
    "#rms graph\n",
    "n = input()\n",
    "dates = []\n",
    "dateNums = []\n",
    "rms = []\n",
    "\n",
    "for x in range(int(n)):\n",
    "    data = dataF.readline().split(' ')\n",
    "    date = data[0]\n",
    "    new = date[0:4]+'/'+date[4:6]+'/'+date[6:8]\n",
    "    \n",
    "    dt = datetime.strptime(new, '%Y/%m/%d')\n",
    "    dateNums.append(str(dt))\n",
    "    \n",
    "    dates.append(dts.date2num(dt))\n",
    "    rms.append(float(data[6]))\n",
    "\n",
    "fig = plot.figure(figsize=(11,6))\n",
    "\n",
    "plot.suptitle('RMS vs Time')\n",
    "\n",
    "ax = fig.add_subplot(111)\n",
    "ax.set_ylabel('RMS')\n",
    "ax.plot_date(dates, rms, 'o')\n",
    "ax.grid()\n",
    "\n",
    "mplcursors.cursor(ax, hover=True).connect(\n",
    "    \"add\", lambda sel: sel.annotation.set_text(str(dts.num2date(sel.target[0]))[0:10]+', '+str(sel.target[1])[0:5]))\n",
    "\n",
    "ax.plot_date(dates, rms, linestyle='-')"
   ]
  }
 ],
 "metadata": {
  "kernelspec": {
   "display_name": "Python 3",
   "language": "python",
   "name": "python3"
  },
  "language_info": {
   "codemirror_mode": {
    "name": "ipython",
    "version": 3
   },
   "file_extension": ".py",
   "mimetype": "text/x-python",
   "name": "python",
   "nbconvert_exporter": "python",
   "pygments_lexer": "ipython3",
   "version": "3.7.4"
  }
 },
 "nbformat": 4,
 "nbformat_minor": 2
}
