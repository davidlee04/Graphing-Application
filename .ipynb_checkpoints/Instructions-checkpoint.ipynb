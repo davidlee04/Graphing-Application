{
 "cells": [
  {
   "cell_type": "markdown",
   "metadata": {},
   "source": [
    "# Module Installation Commands\n",
    "\n",
    "**<span style=\"font-size:12pt\">Command Line/Terminal</span>**\n",
    "1. pip install ipympl\n",
    "2. pip install matplotlib\n",
    "3. pip install numpy\n",
    "4. pip install ipywidgets\n",
    "\n",
    "---\n",
    "\n",
    "\n",
    "# How To Run\n",
    "1. Start with run all cells command (cell -> run all)\n",
    "2. Input initial number of desired points (suggested 10-100)\n",
    "3. Interactive application will appear\n",
    "\n",
    "---\n",
    "\n",
    "\n",
    "# Other Related Info\n",
    "\n",
    "---\n",
    "\n",
    "### Line Colors\n",
    "- Red - 3TE Machine\n",
    "- Blue - 3TW Machine\n",
    "- Gray - Unidentified\n",
    "\n",
    "---\n",
    "\n",
    "### Github/Bitbucket\n",
    "- [Repository](https://bitbucket.org/davidlee04/graphing-app-public)\n",
    "- [My Github](https://github.com/davidlee04)\n",
    "\n",
    "---\n",
    "\n",
    "[How To Use The Graph Toolbar](https://matplotlib.org/3.1.0/users/navigation_toolbar.html)\n",
    "\n",
    "---\n",
    "\n",
    "The multicoil folder (scan_data/multicoil) works with only two files present. It identifies which machine the file corresponds to by looking for '3te' or '3tw' in the file strings.\n",
    "\n",
    "Ideally, keep one 3te file (alphabetically first) and one 3tw file in the multicoil folder.\n",
    "\n",
    "---"
   ]
  }
 ],
 "metadata": {
  "kernelspec": {
   "display_name": "Python 3.8.2 32-bit",
   "language": "python",
   "name": "python38232bitc0524e11d0b049ed8d8e7b8d66f65b4d"
  },
  "language_info": {
   "codemirror_mode": {
    "name": "ipython",
    "version": 3
   },
   "file_extension": ".py",
   "mimetype": "text/x-python",
   "name": "python",
   "nbconvert_exporter": "python",
   "pygments_lexer": "ipython3",
   "version": "3.8.3"
  }
 },
 "nbformat": 4,
 "nbformat_minor": 4
}
