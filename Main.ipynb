{
 "cells": [
  {
   "cell_type": "code",
   "execution_count": 1,
   "metadata": {
    "scrolled": true
   },
   "outputs": [
    {
     "name": "stdout",
     "output_type": "stream",
     "text": [
      "100\n"
     ]
    },
    {
     "data": {
      "application/vnd.jupyter.widget-view+json": {
       "model_id": "9931b214635c442fb8e7f646c6e14fc5",
       "version_major": 2,
       "version_minor": 0
      },
      "text/plain": [
       "Canvas(toolbar=Toolbar(toolitems=[('Home', 'Reset original view', 'home', 'home'), ('Back', 'Back to previous …"
      ]
     },
     "metadata": {},
     "output_type": "display_data"
    },
    {
     "data": {
      "text/plain": [
       "[<matplotlib.lines.Line2D at 0x1663bd62608>]"
      ]
     },
     "execution_count": 1,
     "metadata": {},
     "output_type": "execute_result"
    }
   ],
   "source": [
    "%matplotlib widget\n",
    "%config InlineBackend.figure_format = 'svg'\n",
    "\n",
    "import matplotlib.pyplot as plt\n",
    "import matplotlib.dates as dts\n",
    "import numpy as np\n",
    "import mplcursors\n",
    "\n",
    "import ipywidgets as widgets \n",
    "from ipywidgets import interact, interact_manual, interactive, fixed\n",
    "\n",
    "import datetime as dt\n",
    "from datetime import datetime\n",
    "\n",
    "dataF = open(\"birnfmri3tw_new.dat.txt\", 'r')\n",
    "dataF.readline()\n",
    "\n",
    "#rms graph\n",
    "n = input()\n",
    "dates = []\n",
    "dateNums = []\n",
    "rms = []\n",
    "\n",
    "for x in range(int(n)):\n",
    "    data = dataF.readline().split(' ')\n",
    "    date = data[0]\n",
    "    new = date[0:4]+'/'+date[4:6]+'/'+date[6:8]\n",
    "    \n",
    "    dt = datetime.strptime(new, '%Y/%m/%d')\n",
    "    dateNums.append(str(dt))\n",
    "    \n",
    "    dates.append(dts.date2num(dt))\n",
    "    rms.append(float(data[6]))\n",
    "\n",
    "fig = plt.figure()\n",
    "fig.suptitle('Graph of RMS')\n",
    "fig.subplots_adjust(top=0.85)\n",
    "\n",
    "ax = fig.add_subplot(111)\n",
    "line, = ax.plot_date(dates, rms, 'o')\n",
    "ax.set_xlabel('Dates')\n",
    "ax.set_ylabel('RMS')\n",
    "ax.grid()\n",
    "\n",
    "annot = ax.annotate(\"\", xy=(0,0), xytext=(-20, 20),textcoords=\"offset points\",\n",
    "                    bbox=dict(boxstyle=\"round\", fc=\"w\"),\n",
    "                    arrowprops=dict(arrowstyle=\"->\"),\n",
    "                    fontfamily = 'Arial', fontsize = 8,)\n",
    "annot.get_bbox_patch().set_alpha(0.9)\n",
    "annot.set_alpha(0.9)\n",
    "annot.set_visible(False)\n",
    "\n",
    "def update(ind):\n",
    "    x,y = line.get_data()\n",
    "    x_i = ind[\"ind\"][0]\n",
    "    annot.xy = (x[ind[\"ind\"][0]], y[ind[\"ind\"][0]])\n",
    "    text = \"{}\\n{}\".format(\" \".join('Date: %s' % str(dts.num2date(dates[x_i]))[0:10]),\n",
    "                           \" \".join('RMS: %s' % str(rms[x_i])[0:5]))\n",
    "    annot.set_text(text)\n",
    "\n",
    "def on_hover(event):\n",
    "    visible = annot.get_visible()\n",
    "    if event.inaxes == ax:\n",
    "        within, ind = line.contains(event)\n",
    "        if within:\n",
    "            update(ind)\n",
    "            annot.set_visible(True)\n",
    "            fig.canvas.draw_idle()\n",
    "        elif visible:\n",
    "            annot.set_visible(False)\n",
    "            fig.canvas.draw_idle()\n",
    "            \n",
    "fig.canvas.mpl_connect('motion_notify_event', on_hover)\n",
    "\n",
    "#mplcursors.cursor(ax).connect(\n",
    "#    \"add\", lambda sel: sel.annotation.set_text('Date: '+str(dts.num2date(sel.target[0]))[0:10]+'\\n RMS: '+str(sel.target[1])[0:5]))\n",
    "\n",
    "ax.plot_date(dates, rms, linestyle='-', color = '#0BB3F1')"
   ]
  }
 ],
 "metadata": {
  "kernelspec": {
   "display_name": "Python 3",
   "language": "python",
   "name": "python3"
  },
  "language_info": {
   "codemirror_mode": {
    "name": "ipython",
    "version": 3
   },
   "file_extension": ".py",
   "mimetype": "text/x-python",
   "name": "python",
   "nbconvert_exporter": "python",
   "pygments_lexer": "ipython3",
   "version": "3.7.4"
  }
 },
 "nbformat": 4,
 "nbformat_minor": 2
}
